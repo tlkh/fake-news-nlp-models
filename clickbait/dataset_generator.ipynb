{
 "cells": [
  {
   "cell_type": "code",
   "execution_count": 1,
   "metadata": {},
   "outputs": [],
   "source": [
    "import numpy as np\n",
    "import pandas as pd\n",
    "import re, sys, os, csv, string"
   ]
  },
  {
   "cell_type": "code",
   "execution_count": 2,
   "metadata": {},
   "outputs": [],
   "source": [
    "# If we are concerned about stop words...\n",
    "#from many_stop_words import get_stop_words\n",
    "#from nltk.corpus import stopwords\n",
    "#stop_words = list(get_stop_words('en'))         #About 900 stop words\n",
    "#nltk_words = list(stopwords.words('english'))   #About 150 stop words\n",
    "#stop_words.extend(nltk_words)"
   ]
  },
  {
   "cell_type": "code",
   "execution_count": 3,
   "metadata": {},
   "outputs": [
    {
     "name": "stdout",
     "output_type": "stream",
     "text": [
      "Example: ['100 most anticipated books releasing in 2010', '1']\n",
      "Example: ['albuquerque palmist forecasts 2010 for writers', '1']\n"
     ]
    }
   ],
   "source": [
    "data = []\n",
    "with open('dataset/clickbait.csv', encoding='utf-8') as csvfile:\n",
    "    readCSV = csv.reader(csvfile, delimiter=',')\n",
    "    for row in readCSV:\n",
    "        headline = re.sub(r'[^\\w\\s]','', row[1].lower())\n",
    "        if len(headline) > 4:\n",
    "            try:\n",
    "                headline.encode(encoding='utf-8').decode('ascii')\n",
    "                data.append([headline, \"1\"])\n",
    "            except:\n",
    "                pass\n",
    "data.pop(0)\n",
    "print(\"Example:\", data[0])\n",
    "print(\"Example:\", data[100])\n",
    "current = len(data)"
   ]
  },
  {
   "cell_type": "code",
   "execution_count": 4,
   "metadata": {},
   "outputs": [
    {
     "name": "stdout",
     "output_type": "stream",
     "text": [
      "Example: ['aba decides against community broadcasting licence', '0']\n",
      "Example: ['more women urged to become councillors', '0']\n",
      "Length: 5.755 million\n"
     ]
    }
   ],
   "source": [
    "with open('dataset/not_clickbait.csv', encoding='latin-1') as csvfile:\n",
    "    readCSV = csv.reader(csvfile, delimiter=',')\n",
    "    for row in readCSV:\n",
    "        headline = re.sub(r'[^\\w\\s]','', str(row)[2:-2].lower()).replace(\"_\", \" \")\n",
    "        if headline.replace(\" \", \"\").isalnum():\n",
    "            if len(headline) > 4:\n",
    "                try:\n",
    "                    headline.encode(encoding='utf-8').decode('ascii')\n",
    "                    data.append([headline, \"0\"])\n",
    "                except:\n",
    "                    pass\n",
    "print(\"Example:\", data[current])\n",
    "print(\"Example:\", data[current + 100])\n",
    "print(\"Length:\", round(len(data)/1e6, 3), \"million\")"
   ]
  },
  {
   "cell_type": "code",
   "execution_count": 5,
   "metadata": {},
   "outputs": [
    {
     "name": "stdout",
     "output_type": "stream",
     "text": [
      "Example: ['trs ban shows mda has scary unlimited powers', '1']\n",
      "Example: ['traffic police new speed laser cameras in 44 locations', '1']\n"
     ]
    }
   ],
   "source": [
    "ass_data = []\n",
    "with open('ass_headlines.csv', encoding='utf-8') as csvfile:\n",
    "    readCSV = csv.reader(csvfile, delimiter=',')\n",
    "    for row in readCSV:\n",
    "        headline = re.sub(r'[^\\w\\s]','', row[1]).replace(\"_\", \" \")\n",
    "        if len(headline) > 4:\n",
    "            try:\n",
    "                headline.encode(encoding='utf-8').decode('ascii')\n",
    "                ass_data.append([headline, \"1\"])\n",
    "            except:\n",
    "                pass\n",
    "ass_data.pop(0)\n",
    "print(\"Example:\", ass_data[0])\n",
    "print(\"Example:\", ass_data[100])\n",
    "len(ass_data)\n",
    "for row in ass_data:\n",
    "    data.append(row)"
   ]
  },
  {
   "cell_type": "code",
   "execution_count": 6,
   "metadata": {},
   "outputs": [
    {
     "data": {
      "text/plain": [
       "5772866"
      ]
     },
     "execution_count": 6,
     "metadata": {},
     "output_type": "execute_result"
    }
   ],
   "source": [
    "from sklearn.utils import shuffle\n",
    "data = shuffle(data)\n",
    "data = shuffle(data)\n",
    "len(data)"
   ]
  },
  {
   "cell_type": "code",
   "execution_count": 7,
   "metadata": {},
   "outputs": [
    {
     "name": "stdout",
     "output_type": "stream",
     "text": [
      "Example: ['saffron slams naveen for votebank politics', '0']\n",
      "Example: ['ironmen advance to final round', '0']\n",
      "Example: ['brazilian rides to victory at surfest', '0']\n",
      "Example: ['fashion industry make way for a bigger christian fashion week', '1']\n"
     ]
    }
   ],
   "source": [
    "print(\"Example:\", data[0])\n",
    "print(\"Example:\", data[100])\n",
    "print(\"Example:\", data[current])\n",
    "print(\"Example:\", data[current + 100])"
   ]
  },
  {
   "cell_type": "code",
   "execution_count": 8,
   "metadata": {},
   "outputs": [
    {
     "name": "stdout",
     "output_type": "stream",
     "text": [
      "                                                  headline clickbait\n",
      "0               saffron slams naveen for votebank politics         0\n",
      "1            forestry reports split timber workers millers         0\n",
      "2        lady jockey chantal sutherland is retiring fro...         1\n",
      "3                                        womans body found         0\n",
      "4                       mci inspection leaves gsvm jittery         0\n",
      "5        race to the top emphasis on intercultural comm...         1\n",
      "6                            mans body found at skate park         0\n",
      "7                  mary clemenson  actor and script writer         1\n",
      "8        how candy crush inspired peter serafinowiczs s...         0\n",
      "9        documents allege aust us spied during indonesi...         0\n",
      "10        bike hike and roses bon air memorial rose garden         1\n",
      "11                           saina nehwal regains no2 spot         0\n",
      "12       iowa lists nathan stanley as qb for opener vs ...         0\n",
      "13       efforts should be made to control nuke prolife...         0\n",
      "14                  principals may face jail for fee hikes         0\n",
      "15       my strange addiction gloria likes to take a ba...         1\n",
      "16                                     god of small things         0\n",
      "17                               bradlee and nixons crimes         1\n",
      "18                       oriental insurance may set up tpa         0\n",
      "19                         pair arrested over police chase         0\n",
      "20       alice waters signs her new book this saturday ...         1\n",
      "21       sony comments on the restoration of the psn ma...         1\n",
      "22       rebecca  fiona live at the mid  chicago saturd...         1\n",
      "23       celebrity nba owner mark cuban death to the bc...         1\n",
      "24       january is international childcentered divorce...         1\n",
      "25                   cheque it out city has 500 crorepatis         0\n",
      "26                         sharapova in wimbledon rain row         0\n",
      "27         whats free for the weekend july 8  july 11 2010         1\n",
      "28       a list of undertakers worst to best matches at...         1\n",
      "29                   people forced to eat scraps with pigs         0\n",
      "...                                                    ...       ...\n",
      "5772836  truman capotes charming holiday tales return t...         1\n",
      "5772837            many get the stick as aiadmk comes back         0\n",
      "5772838                          lorenzo wins japan motogp         0\n",
      "5772839        macho man randy savage dies in car accident         1\n",
      "5772840  3rd annual young peoples theatre reunion conce...         1\n",
      "5772841  daniel handlers new novel all the dirty parts ...         0\n",
      "5772842                          dos siglos llenos de vida         0\n",
      "5772843  the latest supporters want kaepernick signed b...         0\n",
      "5772844                       rba battelino economy speech         0\n",
      "5772845  kathy griffin reminds us that arnold schwarzen...         1\n",
      "5772846    red sox bolster outfield with rajai davis trade         0\n",
      "5772847  youths sexually victimized in juvenile facilities         1\n",
      "5772848  death row inmate goes out on full stomach inge...         1\n",
      "5772849                        jeev shiv slip to tied 26th         0\n",
      "5772850                     channel 5 on thursday mornings         1\n",
      "5772851  esalazioni fognarie in camera dalbergo miglior...         0\n",
      "5772852          columnist george will bashes donald trump         1\n",
      "5772853        new nyse chief takes on weak corp policeman         0\n",
      "5772854  sqm reporta ganancia neta de us1012m en el seg...         0\n",
      "5772855  ae longmire ruby tells walt i want you to hurt...         1\n",
      "5772856  laxatives given to smuggler who ingested 23 mi...         1\n",
      "5772857                      learning to dance in the rain         1\n",
      "5772858       funding cut puts brakes on youth bike scheme         0\n",
      "5772859  light and healthy mirai express california rol...         1\n",
      "5772860      nehru stadium to be upgraded for test cricket         0\n",
      "5772861     georgia congressional maps officially released         1\n",
      "5772862      murray has lowest inflow on record govt keeps         0\n",
      "5772863  senior officers dont even look at intelligence...         0\n",
      "5772864  dogs euthanized after distemper outbreak at an...         1\n",
      "5772865  morre filhote de baleia que estava encalhado e...         0\n",
      "\n",
      "[5772866 rows x 2 columns]\n"
     ]
    }
   ],
   "source": [
    "labels = [\"headline\", \"clickbait\"]\n",
    "df = pd.DataFrame.from_records(data, columns=labels)\n",
    "print(df)"
   ]
  },
  {
   "cell_type": "code",
   "execution_count": 9,
   "metadata": {},
   "outputs": [],
   "source": [
    "df.to_csv(\"data.csv\", sep=',', encoding='utf-8')"
   ]
  },
  {
   "cell_type": "code",
   "execution_count": null,
   "metadata": {},
   "outputs": [],
   "source": []
  }
 ],
 "metadata": {
  "kernelspec": {
   "display_name": "Python 3",
   "language": "python",
   "name": "python3"
  },
  "language_info": {
   "codemirror_mode": {
    "name": "ipython",
    "version": 3
   },
   "file_extension": ".py",
   "mimetype": "text/x-python",
   "name": "python",
   "nbconvert_exporter": "python",
   "pygments_lexer": "ipython3",
   "version": "3.6.4"
  }
 },
 "nbformat": 4,
 "nbformat_minor": 2
}
