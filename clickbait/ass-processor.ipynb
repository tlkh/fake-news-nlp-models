{
 "cells": [
  {
   "cell_type": "code",
   "execution_count": 35,
   "metadata": {},
   "outputs": [],
   "source": [
    "import csv\n",
    "import pandas as pd\n",
    "import re"
   ]
  },
  {
   "cell_type": "code",
   "execution_count": 36,
   "metadata": {},
   "outputs": [
    {
     "data": {
      "text/plain": [
       "['title', 1]"
      ]
     },
     "execution_count": 36,
     "metadata": {},
     "output_type": "execute_result"
    }
   ],
   "source": [
    "csv.field_size_limit(100000000)\n",
    "ass_titles = []\n",
    "with open(\"ass_data.csv\", \"r\", encoding=\"utf8\") as csvfile:\n",
    "    readCSV = csv.reader(csvfile, delimiter=',')\n",
    "    for row in readCSV:\n",
    "        headline = re.sub(r'[^\\w\\s]','', str(row[1]).lower()).replace(\"_\", \" \")\n",
    "        ass_titles.append([headline, int(1)])\n",
    "ass_titles.pop(0)"
   ]
  },
  {
   "cell_type": "code",
   "execution_count": 37,
   "metadata": {},
   "outputs": [
    {
     "data": {
      "text/plain": [
       "(18159, ['little india riot the dog that did not bark', 1])"
      ]
     },
     "execution_count": 37,
     "metadata": {},
     "output_type": "execute_result"
    }
   ],
   "source": [
    "len(ass_titles), ass_titles[0]"
   ]
  },
  {
   "cell_type": "code",
   "execution_count": 38,
   "metadata": {},
   "outputs": [],
   "source": [
    "from sklearn.utils import shuffle\n",
    "ass_titles = shuffle(ass_titles)\n",
    "ass_titles = shuffle(ass_titles)"
   ]
  },
  {
   "cell_type": "code",
   "execution_count": 39,
   "metadata": {},
   "outputs": [
    {
     "name": "stdout",
     "output_type": "stream",
     "text": [
      "                                                headline  clickbait\n",
      "0           trs ban shows mda has scary unlimited powers          1\n",
      "1      ladies would you marry a rich and ugly or hand...          1\n",
      "2              support this grandma at mohammed ali lane          1\n",
      "3      paris hit by multiple terror attacks at least ...          1\n",
      "4      2 canadian women detained for stripping on mt ...          1\n",
      "5      pervert uncle use west mall library computer t...          1\n",
      "6      singapore athletics infighting damaging athlet...          1\n",
      "7      pap hater asks for byelection after hengs stro...          1\n",
      "8      spore boys to play historic rugby finals at na...          1\n",
      "9      did govt officials inflate the number of peopl...          1\n",
      "10     highway contractor fined 2 yrs ago for not tak...          1\n",
      "11     antipinkdot supporters attend pinkdot to squea...          1\n",
      "12     wife slashes off husbands penis with penknife ...          1\n",
      "13     inconsiderate neighbour hammers and drill all ...          1\n",
      "14     selfish bmw driver makes it hard for taxi driv...          1\n",
      "15     galaxy s8 facial recognition can be unlocked u...          1\n",
      "16     man on probation slashes bouncers neck with glass          1\n",
      "17     aljunied resident illegal dumping of furniture...          1\n",
      "18     sph sues business owner for using articles whi...          1\n",
      "19     reckless teens livestream ebiking speeding exp...          1\n",
      "20     thousands of christians and muslims to wear wh...          1\n",
      "21     lieutenantgeneral ret winston choo hardwon rel...          1\n",
      "22     josephine teo fails to see our low fertility i...          1\n",
      "23     shameless smrt uses 154 media to ownself prais...          1\n",
      "24     abandoned trolleys cost supermarkets 12000 to ...          1\n",
      "25     smrt bus collided with sbs bus  10 conveyed to...          1\n",
      "26     govt overspends 283 million on yog but refuse ...          1\n",
      "27     vietnamese bride beaten by abusive sporean hus...          1\n",
      "28     singaporeans are one of the most united people...          1\n",
      "29     cabby jailed for taking headphones left behind...          1\n",
      "...                                                  ...        ...\n",
      "18129  ang moh cuts queue at atm says he was here lon...          1\n",
      "18130   rising cost of infant milk powder left unchecked          1\n",
      "18131  curious changes pap made after every electoral...          1\n",
      "18132  maybank smrt could get fined 50 million for la...          1\n",
      "18133  kind activist helping amos yee received online...          1\n",
      "18134  elderly sungei road vendor stripped of right t...          1\n",
      "18135     general moeldoko says his luxury watch is fake          1\n",
      "18136  girl steals 2300 from supermarket but police c...          1\n",
      "18137  maid suspected in double murder was hired from...          1\n",
      "18138  event the great singapore debate an advocate i...          1\n",
      "18139  putting mps in charge of towns sets impossible...          1\n",
      "18140  sdp have some decency  not paste pap election ...          1\n",
      "18141                          bukit batok little guilin          1\n",
      "18142  wp mp faisal manap helps residents but pap gra...          1\n",
      "18143       is the opposition prepared for the coming ge          1\n",
      "18144      singapura pundit an open letter to roy ngerng          1\n",
      "18145  court battle over wp town councils cny fair be...          1\n",
      "18146  how many billions did sporeans lose to the cas...          1\n",
      "18147  man chokeslam girlfriend for being late on his...          1\n",
      "18148  13 yo zheng hua secondary student dies after j...          1\n",
      "18149  spore girl quits job to breastfeed 36 yo boyfr...          1\n",
      "18150  to patronise or not toy shop displays no money...          1\n",
      "18151  materialistic gf wants fresh grad nus bf to bu...          1\n",
      "18152  truly curry rice 真咖喱饭  telok blangah drive foo...          1\n",
      "18153  sdp announces new candidates  dr paul tambyah ...          1\n",
      "18154  impose 34 fuel tank rule for cars leaving sg w...          1\n",
      "18155  pervert conducts bogus survey near girl school...          1\n",
      "18156  my experience as a saf malay commando in the 1...          1\n",
      "18157  73 yr old granny knocked down by cyclist who b...          1\n",
      "18158  aljunied resident i am pleased with wps integr...          1\n",
      "\n",
      "[18159 rows x 2 columns]\n"
     ]
    }
   ],
   "source": [
    "labels = [\"headline\", \"clickbait\"]\n",
    "df = pd.DataFrame.from_records(ass_titles, columns=labels)\n",
    "print(df)"
   ]
  },
  {
   "cell_type": "code",
   "execution_count": 40,
   "metadata": {},
   "outputs": [],
   "source": [
    "df.to_csv(\"ass_headlines.csv\", sep=',', encoding='utf-8')"
   ]
  },
  {
   "cell_type": "code",
   "execution_count": null,
   "metadata": {},
   "outputs": [],
   "source": []
  }
 ],
 "metadata": {
  "kernelspec": {
   "display_name": "Python 3",
   "language": "python",
   "name": "python3"
  },
  "language_info": {
   "codemirror_mode": {
    "name": "ipython",
    "version": 3
   },
   "file_extension": ".py",
   "mimetype": "text/x-python",
   "name": "python",
   "nbconvert_exporter": "python",
   "pygments_lexer": "ipython3",
   "version": "3.6.4"
  }
 },
 "nbformat": 4,
 "nbformat_minor": 2
}
