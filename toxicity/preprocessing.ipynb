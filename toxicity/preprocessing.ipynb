{
 "cells": [
  {
   "cell_type": "markdown",
   "metadata": {},
   "source": [
    "## Preprocessing\n",
    "Save into pickle for max speed"
   ]
  },
  {
   "cell_type": "code",
   "execution_count": null,
   "metadata": {},
   "outputs": [],
   "source": [
    "import csv, re\n",
    "import numpy as np\n",
    "from nltk.corpus import stopwords\n",
    "ids, labels, texts = [], [], []\n",
    "with open(\"dataset/toxicity.csv\", encoding='utf-8') as csvfile:\n",
    "    readCSV = csv.reader(csvfile, delimiter=',')\n",
    "    for n, row in enumerate(readCSV):\n",
    "        if n != 0:\n",
    "            label = [int(row[2]), int(row[3]), int(row[4]), int(row[5]), int(row[6]), int(row[7])]\n",
    "            if np.count_nonzero(np.array(label)) == 0: label.append(1) \n",
    "            else: label.append(0) \n",
    "            text = str(row[1]).lower()\n",
    "            text = re.sub(r'[^\\w\\s]',' ',text)\n",
    "            text = \"\".join([c for c in text if (c.isalpha() or c==\" \")])\n",
    "            text = text.replace(\"\\n\", \" \").replace(\"  \", \" \")\n",
    "            text = text.split(\" \")\n",
    "            text = \" \".join([word for word in text if (word.isalpha() and word!=\" \" and word not in stopwords.words(\"english\"))])\n",
    "            labels.append(label)\n",
    "            texts.append(text)\n",
    "            ids.append(row[0])"
   ]
  },
  {
   "cell_type": "code",
   "execution_count": null,
   "metadata": {},
   "outputs": [],
   "source": [
    "labels"
   ]
  },
  {
   "cell_type": "code",
   "execution_count": 2,
   "metadata": {},
   "outputs": [],
   "source": [
    "import pickle\n",
    "\n",
    "with open('labels.pickle', 'wb') as handle:\n",
    "    pickle.dump(labels, handle, protocol=pickle.HIGHEST_PROTOCOL)\n",
    "    \n",
    "with open('texts.pickle', 'wb') as handle:\n",
    "    pickle.dump(texts, handle, protocol=pickle.HIGHEST_PROTOCOL)\n",
    "    \n",
    "with open('ids.pickle', 'wb') as handle:\n",
    "    pickle.dump(ids, handle, protocol=pickle.HIGHEST_PROTOCOL)"
   ]
  },
  {
   "cell_type": "code",
   "execution_count": null,
   "metadata": {},
   "outputs": [],
   "source": []
  }
 ],
 "metadata": {
  "kernelspec": {
   "display_name": "Python 3",
   "language": "python",
   "name": "python3"
  },
  "language_info": {
   "codemirror_mode": {
    "name": "ipython",
    "version": 3
   },
   "file_extension": ".py",
   "mimetype": "text/x-python",
   "name": "python",
   "nbconvert_exporter": "python",
   "pygments_lexer": "ipython3",
   "version": "3.5.2"
  }
 },
 "nbformat": 4,
 "nbformat_minor": 2
}
